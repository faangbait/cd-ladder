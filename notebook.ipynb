{
 "cells": [
  {
   "cell_type": "code",
   "execution_count": null,
   "metadata": {},
   "outputs": [],
   "source": [
    "from decimal import Decimal, getcontext\n",
    "import pandas as pd\n",
    "import numpy as np\n",
    "\n",
    "\n",
    "def centify(x):\n",
    "    return x.quantize(Decimal('1.00'))\n",
    "\n",
    "class Deposit:\n",
    "    bank_name: str\n",
    "    principal: Decimal\n",
    "    interest: Decimal\n",
    "    duration: int\n",
    "    deposit_date: np.datetime64\n",
    "\n",
    "    def __init__(self, bank_name: str, deposit_date: str, duration: int, interest: float, principal: float) -> None:\n",
    "        self.bank_name = bank_name\n",
    "        self.deposit_date = np.datetime64(deposit_date)\n",
    "        self.duration = duration\n",
    "        \n",
    "        # Shouldn't convert floats into Decimals like this, as we lose accuracy. But it's pennies.\n",
    "        self.interest = Decimal(interest)\n",
    "        self.principal = Decimal(principal)\n",
    "\n",
    "    @property\n",
    "    def maturity_date(self):\n",
    "        return self.deposit_date + np.timedelta64(self.duration, 'M')\n",
    "    \n",
    "    @property\n",
    "    def maturity_value(self) -> Decimal:\n",
    "        \"\"\"Compounded daily interest rate\"\"\"\n",
    "        return self.principal * pow((1 + self.interest/365), 365 * Decimal(self.duration / 12))\n",
    "    \n",
    "    @property\n",
    "    def maturity_profit(self) -> Decimal:\n",
    "        return self.maturity_value - self.principal"
   ]
  },
  {
   "cell_type": "code",
   "execution_count": null,
   "metadata": {},
   "outputs": [],
   "source": [
    "START_DATE = '2023-04'\n",
    "END_DATE = '2034-01'\n",
    "daterange = pd.date_range(START_DATE, END_DATE, freq='MS')\n",
    "\n",
    "# This is a neat hack. Since we're making it a decimal anyway, OK to store as string.\n",
    "STARTING_ACCOUNT_VALUE = \"14216\"\n",
    "\n",
    "# We want our precision to be two cents, plus one more for upside potential\n",
    "getcontext().prec = len(STARTING_ACCOUNT_VALUE) + 3\n",
    "\n",
    "total = pd.Series(data=Decimal(STARTING_ACCOUNT_VALUE), index=daterange)\n",
    "\n",
    "# Start by modeling account disbursements as a cumulative sum.\n",
    "# This reflects the available capital.\n",
    "\n",
    "disbursements = pd.Series(data=Decimal(150), index=pd.date_range(START_DATE, END_DATE, freq='MS')).cumsum()\n",
    "total = total.subtract(disbursements,fill_value=0)\n",
    "\n",
    "total.apply(centify)"
   ]
  },
  {
   "cell_type": "code",
   "execution_count": null,
   "metadata": {},
   "outputs": [],
   "source": [
    "# Create a list of intended deposits according to ladder strategy\n",
    "\n",
    "DEPOSITS_LIST = [\n",
    "    Deposit(\"128-Month CD\", '2023-04', 128, .0425, 1075),\n",
    "    Deposit(\"64-Month CD\", '2023-05', 64, .0425, 9200),\n",
    "    Deposit(\"18-Month CD\", '2023-05', 18, .048, 1750),\n",
    "    Deposit(\"18-Month CD\", '2024-11', 18, .048, 1750),\n",
    "] \n",
    "\n",
    "for entry in DEPOSITS_LIST:\n",
    "    \n",
    "    # Credits represent the return of capital from a matured certificate\n",
    "    credits = pd.Series(data=entry.maturity_profit, index=pd.date_range(entry.maturity_date, END_DATE, freq='MS'))\n",
    "    total = total.add(credits, fill_value=0)\n",
    "    \n",
    "    # Debits represent a capital outlay into a new certificate\n",
    "    debits = pd.Series(data=Decimal(entry.principal), index=pd.date_range(entry.deposit_date, periods=entry.duration, freq='MS'))\n",
    "    total = total.subtract(debits,fill_value=0)\n",
    "\n",
    "# Show the results of our ladder\n",
    "print(total.apply(centify).to_string())"
   ]
  }
 ],
 "metadata": {
  "kernelspec": {
   "display_name": "Python 3",
   "language": "python",
   "name": "python3"
  },
  "language_info": {
   "codemirror_mode": {
    "name": "ipython",
    "version": 3
   },
   "file_extension": ".py",
   "mimetype": "text/x-python",
   "name": "python",
   "nbconvert_exporter": "python",
   "pygments_lexer": "ipython3",
   "version": "3.11.3"
  },
  "orig_nbformat": 4
 },
 "nbformat": 4,
 "nbformat_minor": 2
}
